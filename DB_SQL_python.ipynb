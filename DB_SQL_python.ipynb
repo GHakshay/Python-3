{
  "nbformat": 4,
  "nbformat_minor": 0,
  "metadata": {
    "colab": {
      "name": "DB_SQL_python.ipynb",
      "version": "0.3.2",
      "provenance": [],
      "collapsed_sections": []
    },
    "kernelspec": {
      "name": "python3",
      "display_name": "Python 3"
    }
  },
  "cells": [
    {
      "cell_type": "code",
      "metadata": {
        "id": "dzwaDpZe7HyR",
        "colab_type": "code",
        "colab": {}
      },
      "source": [
        "import mysql.connector as mysql"
      ],
      "execution_count": 0,
      "outputs": []
    },
    {
      "cell_type": "code",
      "metadata": {
        "id": "mrxwH4wm9RO6",
        "colab_type": "code",
        "outputId": "fa81f240-8639-48c6-8aaf-ebee673368b4",
        "colab": {
          "base_uri": "https://localhost:8080/",
          "height": 171
        }
      },
      "source": [
        "!pip3 install mysql-connector-python"
      ],
      "execution_count": 0,
      "outputs": [
        {
          "output_type": "stream",
          "text": [
            "Collecting mysql-connector-python\n",
            "\u001b[?25l  Downloading https://files.pythonhosted.org/packages/40/f5/55dd794bb70a9b73510454ac3fb57c27450d70eaf5811f4fb618b80bcace/mysql_connector_python-8.0.16-cp36-cp36m-manylinux1_x86_64.whl (13.0MB)\n",
            "\u001b[K     |████████████████████████████████| 13.0MB 2.8MB/s \n",
            "\u001b[?25hRequirement already satisfied: protobuf>=3.0.0 in /usr/local/lib/python3.6/dist-packages (from mysql-connector-python) (3.7.1)\n",
            "Requirement already satisfied: six>=1.9 in /usr/local/lib/python3.6/dist-packages (from protobuf>=3.0.0->mysql-connector-python) (1.12.0)\n",
            "Requirement already satisfied: setuptools in /usr/local/lib/python3.6/dist-packages (from protobuf>=3.0.0->mysql-connector-python) (41.0.1)\n",
            "Installing collected packages: mysql-connector-python\n",
            "Successfully installed mysql-connector-python-8.0.16\n"
          ],
          "name": "stdout"
        }
      ]
    },
    {
      "cell_type": "code",
      "metadata": {
        "id": "kN3Nba0d9fAx",
        "colab_type": "code",
        "colab": {}
      },
      "source": [
        "# RDS info\n",
        "u='root'\n",
        "p='password'\n",
        "db='adhoc'\n",
        "h='hostname'"
      ],
      "execution_count": 0,
      "outputs": []
    },
    {
      "cell_type": "code",
      "metadata": {
        "id": "YW6_Apdl94v5",
        "colab_type": "code",
        "colab": {}
      },
      "source": [
        "# now connecting\n",
        "conn=mysql.connect(user=u,password=p,database=db,host=h)"
      ],
      "execution_count": 0,
      "outputs": []
    },
    {
      "cell_type": "code",
      "metadata": {
        "id": "_s5v-MRs-FM1",
        "colab_type": "code",
        "colab": {}
      },
      "source": [
        "# now generating a sql lang. cursor\n",
        "cur=conn.cursor()"
      ],
      "execution_count": 0,
      "outputs": []
    },
    {
      "cell_type": "code",
      "metadata": {
        "id": "vpDkOzqw-Whj",
        "colab_type": "code",
        "colab": {}
      },
      "source": [
        "# now we can write sql query\n",
        "cur.execute(\"show tables;\")"
      ],
      "execution_count": 0,
      "outputs": []
    },
    {
      "cell_type": "code",
      "metadata": {
        "id": "HzuHwEgA-jcu",
        "colab_type": "code",
        "outputId": "4e1deef1-4e65-4422-a1ab-38499373da8a",
        "colab": {
          "base_uri": "https://localhost:8080/",
          "height": 34
        }
      },
      "source": [
        "#printing result\n",
        "cur.fetchall()"
      ],
      "execution_count": 0,
      "outputs": [
        {
          "output_type": "execute_result",
          "data": {
            "text/plain": [
              "[('dockers',)]"
            ]
          },
          "metadata": {
            "tags": []
          },
          "execution_count": 8
        }
      ]
    },
    {
      "cell_type": "code",
      "metadata": {
        "id": "AWkjTIHA-qe5",
        "colab_type": "code",
        "colab": {}
      },
      "source": [
        "# clossing connection\n",
        "conn.close()"
      ],
      "execution_count": 0,
      "outputs": []
    },
    {
      "cell_type": "code",
      "metadata": {
        "id": "pL-1LNUd-wGY",
        "colab_type": "code",
        "colab": {}
      },
      "source": [
        ""
      ],
      "execution_count": 0,
      "outputs": []
    }
  ]
}