{
 "cells": [
  {
   "cell_type": "code",
   "execution_count": 1,
   "metadata": {},
   "outputs": [],
   "source": [
    "import num2words"
   ]
  },
  {
   "cell_type": "code",
   "execution_count": 2,
   "metadata": {},
   "outputs": [],
   "source": [
    "from num2words import num2words as nw"
   ]
  },
  {
   "cell_type": "code",
   "execution_count": 4,
   "metadata": {},
   "outputs": [
    {
     "name": "stdout",
     "output_type": "stream",
     "text": [
      "eighty-six\n"
     ]
    }
   ],
   "source": [
    "print(nw(86))"
   ]
  },
  {
   "cell_type": "code",
   "execution_count": 6,
   "metadata": {},
   "outputs": [
    {
     "data": {
      "text/plain": [
       "'six million, nine hundred and eighty-nine thousand, five hundred and sixty-nine'"
      ]
     },
     "execution_count": 6,
     "metadata": {},
     "output_type": "execute_result"
    }
   ],
   "source": [
    "nw(6989569)"
   ]
  },
  {
   "cell_type": "code",
   "execution_count": 9,
   "metadata": {},
   "outputs": [
    {
     "data": {
      "text/plain": [
       "'six million, nine hundred and eighty-nine thousand, five hundred and sixty-nine'"
      ]
     },
     "execution_count": 9,
     "metadata": {},
     "output_type": "execute_result"
    }
   ],
   "source": [
    "nw(6989569 , to='cardinal')"
   ]
  },
  {
   "cell_type": "code",
   "execution_count": 11,
   "metadata": {},
   "outputs": [
    {
     "data": {
      "text/plain": [
       "'6989569th'"
      ]
     },
     "execution_count": 11,
     "metadata": {},
     "output_type": "execute_result"
    }
   ],
   "source": [
    "nw(6989569 , to='ordinal_num')"
   ]
  },
  {
   "cell_type": "code",
   "execution_count": 13,
   "metadata": {},
   "outputs": [
    {
     "data": {
      "text/plain": [
       "'sixty-nine thousand, eight hundred and ninety-five euro, sixty-nine cents'"
      ]
     },
     "execution_count": 13,
     "metadata": {},
     "output_type": "execute_result"
    }
   ],
   "source": [
    "nw(6989569 , to='currency')"
   ]
  },
  {
   "cell_type": "code",
   "execution_count": 14,
   "metadata": {},
   "outputs": [
    {
     "data": {
      "text/plain": [
       "'six million, nine hundred and eighty-nine thousand, five hundred and sixty-nine'"
      ]
     },
     "execution_count": 14,
     "metadata": {},
     "output_type": "execute_result"
    }
   ],
   "source": [
    "nw(6989569 , lang='en')"
   ]
  },
  {
   "cell_type": "code",
   "execution_count": 15,
   "metadata": {
    "collapsed": true
   },
   "outputs": [
    {
     "ename": "NotImplementedError",
     "evalue": "",
     "output_type": "error",
     "traceback": [
      "\u001b[1;31m---------------------------------------------------------------------------\u001b[0m",
      "\u001b[1;31mNotImplementedError\u001b[0m                       Traceback (most recent call last)",
      "\u001b[1;32m<ipython-input-15-2c33b2c2879e>\u001b[0m in \u001b[0;36m<module>\u001b[1;34m\u001b[0m\n\u001b[1;32m----> 1\u001b[1;33m \u001b[0mnw\u001b[0m\u001b[1;33m(\u001b[0m\u001b[1;36m6989569\u001b[0m \u001b[1;33m,\u001b[0m \u001b[0mlang\u001b[0m\u001b[1;33m=\u001b[0m\u001b[1;34m'hi'\u001b[0m\u001b[1;33m)\u001b[0m\u001b[1;33m\u001b[0m\u001b[0m\n\u001b[0m",
      "\u001b[1;32mc:\\python\\python37\\lib\\site-packages\\num2words\\__init__.py\u001b[0m in \u001b[0;36mnum2words\u001b[1;34m(number, ordinal, lang, to, **kwargs)\u001b[0m\n\u001b[0;32m     73\u001b[0m         \u001b[0mlang\u001b[0m \u001b[1;33m=\u001b[0m \u001b[0mlang\u001b[0m\u001b[1;33m[\u001b[0m\u001b[1;33m:\u001b[0m\u001b[1;36m2\u001b[0m\u001b[1;33m]\u001b[0m\u001b[1;33m\u001b[0m\u001b[0m\n\u001b[0;32m     74\u001b[0m     \u001b[1;32mif\u001b[0m \u001b[0mlang\u001b[0m \u001b[1;32mnot\u001b[0m \u001b[1;32min\u001b[0m \u001b[0mCONVERTER_CLASSES\u001b[0m\u001b[1;33m:\u001b[0m\u001b[1;33m\u001b[0m\u001b[0m\n\u001b[1;32m---> 75\u001b[1;33m         \u001b[1;32mraise\u001b[0m \u001b[0mNotImplementedError\u001b[0m\u001b[1;33m(\u001b[0m\u001b[1;33m)\u001b[0m\u001b[1;33m\u001b[0m\u001b[0m\n\u001b[0m\u001b[0;32m     76\u001b[0m     \u001b[0mconverter\u001b[0m \u001b[1;33m=\u001b[0m \u001b[0mCONVERTER_CLASSES\u001b[0m\u001b[1;33m[\u001b[0m\u001b[0mlang\u001b[0m\u001b[1;33m]\u001b[0m\u001b[1;33m\u001b[0m\u001b[0m\n\u001b[0;32m     77\u001b[0m \u001b[1;33m\u001b[0m\u001b[0m\n",
      "\u001b[1;31mNotImplementedError\u001b[0m: "
     ]
    }
   ],
   "source": [
    "nw(6989569 , lang='hi')"
   ]
  },
  {
   "cell_type": "code",
   "execution_count": 16,
   "metadata": {},
   "outputs": [
    {
     "data": {
      "text/plain": [
       "'six millions neuf cent quatre-vingt-neuf mille cinq cent soixante-neuf'"
      ]
     },
     "execution_count": 16,
     "metadata": {},
     "output_type": "execute_result"
    }
   ],
   "source": [
    "nw(6989569 , lang='fr')"
   ]
  },
  {
   "cell_type": "code",
   "execution_count": 17,
   "metadata": {},
   "outputs": [
    {
     "data": {
      "text/plain": [
       "'sechs Millionen neunhundertneunundachtzigtausendfünfhundertneunundsechzig'"
      ]
     },
     "execution_count": 17,
     "metadata": {},
     "output_type": "execute_result"
    }
   ],
   "source": [
    "nw(6989569 , lang='de') #german"
   ]
  },
  {
   "cell_type": "code",
   "execution_count": 23,
   "metadata": {},
   "outputs": [
    {
     "data": {
      "text/plain": [
       "'six millions neuf cent quatre-vingt-neuf mille cinq cent soixante-neuf'"
      ]
     },
     "execution_count": 23,
     "metadata": {},
     "output_type": "execute_result"
    }
   ],
   "source": [
    "nw(6989569 , lang='fr')"
   ]
  },
  {
   "cell_type": "code",
   "execution_count": 24,
   "metadata": {},
   "outputs": [
    {
     "data": {
      "text/plain": [
       "'sixty-nine thousand, eight hundred and ninety-five euro, sixty-nine cents'"
      ]
     },
     "execution_count": 24,
     "metadata": {},
     "output_type": "execute_result"
    }
   ],
   "source": [
    "nw(6989569 , lang='en' , to='currency')"
   ]
  },
  {
   "cell_type": "code",
   "execution_count": 128,
   "metadata": {},
   "outputs": [],
   "source": [
    "def int_to_word(n):\n",
    "    \n",
    "    single_digits = [\"zero\", \"one\", \"two\", \"three\",\"four\", \"five\", \"six\", \"seven\", \"eight\", \"nine\"]\n",
    "    two_digits = [\"\", \"eleven\", \"twelve\",\"thirteen\", \"fourteen\", \"fifteen\",\"sixteen\", \"seventeen\", \"eighteen\", \"nineteen\"]\n",
    "    tens_multiple = [\"\", \"ten\", \"twenty\", \"thirty\", \"forty\",\"fifty\", \"sixty\", \"seventy\", \"eighty\",\"ninety\"]\n",
    "    \n",
    "    n = str(n)\n",
    "    l = len(n)\n",
    "    n = int(n)\n",
    "    if(l == 1):\n",
    "        return single_digits[n]\n",
    "        \n",
    "    elif(l == 2):\n",
    "        if(n%10==0):\n",
    "            return tens_multiple[(n//10)]\n",
    "        else:\n",
    "            if (tens_multiple[(n//10)]==\"ten\"):\n",
    "                return two_digits[(n%10)]\n",
    "            else:\n",
    "                return tens_multiple[(n//10)] + \" \" + single_digits[(n%10)]\n",
    "    \n",
    "    elif(l == 3):\n",
    "        out = single_digits[n//100] + \" hundred and\"\n",
    "        x = int_to_word(n%100)\n",
    "        return out + \" \" + x\n",
    "    \n",
    "    elif(l == 4):\n",
    "        out1 = single_digits[n//1000] + \" thousand\"\n",
    "        x1 = int_to_word(n%1000)\n",
    "        return out1 + \" \" + x1\n",
    "    \n",
    "    elif(l == 5):\n",
    "        n2 = n//1000\n",
    "        if n2%10 == 0:\n",
    "            out2 = tens_multiple[(n2//10)] + \" thousand\"\n",
    "        else:\n",
    "            out2 = tens_multiple[(n2//10)] + \" \" + single_digits[(n2%10)] + \" thousand\"\n",
    "        x2 = int_to_word(n%1000)\n",
    "        return out2 + \" \" + x2\n",
    "    \n",
    "    elif(l == 6):\n",
    "        out3 = single_digits[n//100000] + \" lakh\"\n",
    "        x3 = int_to_word(n%100000)\n",
    "        return out3 + \" \" + x3\n",
    "    \n",
    "    elif(l == 7):\n",
    "        n2 = n//100000\n",
    "        if n2%10 == 0:\n",
    "            out4 = tens_multiple[(n2//10)] + \" lakh\"\n",
    "        else:\n",
    "            out4 = tens_multiple[(n2//10)] + \" \" + single_digits[(n2%10)] + \" lakh\"\n",
    "        x4 = int_to_word(n%100000)\n",
    "        return out4 + \" \" + x4\n",
    "    \n",
    "    else:\n",
    "        return \"ok\""
   ]
  },
  {
   "cell_type": "code",
   "execution_count": 130,
   "metadata": {},
   "outputs": [
    {
     "name": "stdout",
     "output_type": "stream",
     "text": [
      "thirty nine lakh eighty six thousand six hundred and ninety eight\n"
     ]
    }
   ],
   "source": [
    "print(int_to_word(3986698))"
   ]
  }
 ],
 "metadata": {
  "kernelspec": {
   "display_name": "Python 3",
   "language": "python",
   "name": "python3"
  },
  "language_info": {
   "codemirror_mode": {
    "name": "ipython",
    "version": 3
   },
   "file_extension": ".py",
   "mimetype": "text/x-python",
   "name": "python",
   "nbconvert_exporter": "python",
   "pygments_lexer": "ipython3",
   "version": "3.7.0"
  }
 },
 "nbformat": 4,
 "nbformat_minor": 2
}
